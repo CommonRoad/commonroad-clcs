{
 "cells": [
  {
   "cell_type": "markdown",
   "id": "c92cba71-467b-4407-b1f2-ddb6c85551dc",
   "metadata": {},
   "source": [
    "# Reference Path Processing"
   ]
  },
  {
   "cell_type": "markdown",
   "id": "76c19dfe-556e-4874-8796-a52fc6f39b32",
   "metadata": {},
   "source": [
    "Curvilinear coordinate frames are heavily influenced by the quality of the reference path (in our case a 2d polyline). Potential issues of the reference path are for example discontinuities, insufficient smoothness or noisy profiles of the curvature (rate), too high curvature values, oversampling etc... This can lead to a variety of problems when using the curvilinear representation for downstream tasks (e.g., motion planning), such as discontinuous trajectories, infeasibilities, arbitrary projections etc...\n",
    "\n",
    "Therefore, we provide different methods which can be used to pre-process the reference path w.r.t. the aforementioned issues. Here, we show some examples."
   ]
  },
  {
   "cell_type": "markdown",
   "id": "3a0c567c-d420-48b0-ae24-a7d063351bc8",
   "metadata": {},
   "source": [
    "### Load scenario and get initial reference path "
   ]
  },
  {
   "cell_type": "markdown",
   "id": "9dbb32b9-be5f-46ff-b761-5038ff4b1d65",
   "metadata": {},
   "source": [
    "Load scenario"
   ]
  },
  {
   "cell_type": "code",
   "execution_count": 1,
   "id": "2562a6da-fbff-443b-b1b3-f42ea5136b34",
   "metadata": {},
   "outputs": [],
   "source": [
    "import os\n",
    "from commonroad.common.file_reader import CommonRoadFileReader\n",
    "\n",
    "# Load scenario\n",
    "scenario_name = 'ZAM_Tjunction-1_42_T-1.xml'\n",
    "file_path = os.path.join(os.getcwd(), \"../\", scenario_name)\n",
    "scenario, planning_problem_set = CommonRoadFileReader(file_path).open()\n",
    "planning_problem = list(planning_problem_set.planning_problem_dict.values())[0]"
   ]
  },
  {
   "cell_type": "markdown",
   "id": "ece140e2-ffd3-4895-95b7-7c193f442cc1",
   "metadata": {},
   "source": [
    "Plan initial reference path"
   ]
  },
  {
   "cell_type": "code",
   "execution_count": 2,
   "id": "debd8309-1b91-46cf-b15d-cfddf5016011",
   "metadata": {},
   "outputs": [
    {
     "name": "stdout",
     "output_type": "stream",
     "text": [
      "Running cmake --build & --install in /home/gerald/Documents/CommonRoad/cps/commonroad-clcs/build/Release_cp311-cp311-manylinux_2_31_x86_64\n"
     ]
    }
   ],
   "source": [
    "from commonroad_route_planner.route_planner import RoutePlanner\n",
    "from commonroad_route_planner.reference_path_planner import ReferencePathPlanner\n",
    "from copy import deepcopy\n",
    "\n",
    "# Plan initial reference path\n",
    "routes = RoutePlanner(scenario.lanelet_network, planning_problem).plan_routes()\n",
    "ref_path = ReferencePathPlanner(\n",
    "    lanelet_network=scenario.lanelet_network,\n",
    "    planning_problem=planning_problem,\n",
    "    routes=routes\n",
    ").plan_shortest_reference_path().reference_path\n",
    "\n",
    "# store original reference path\n",
    "ref_path_original = deepcopy(ref_path)"
   ]
  },
  {
   "cell_type": "markdown",
   "id": "0bd3e093-a137-4755-a408-4692cf1585f9",
   "metadata": {},
   "source": [
    "Initialize parameter object"
   ]
  },
  {
   "cell_type": "code",
   "execution_count": 3,
   "id": "bf8e068b-90f5-4b73-bd63-f964c45bddcf",
   "metadata": {},
   "outputs": [],
   "source": [
    "from commonroad_clcs.config import (\n",
    "    CLCSParams,\n",
    "    ProcessingOption,\n",
    "    ResamplingOption\n",
    ")\n",
    "\n",
    "# initialize CLCS params\n",
    "params = CLCSParams()"
   ]
  },
  {
   "cell_type": "markdown",
   "id": "a0f958cd-d20f-44ea-b8f8-693d7b1671c4",
   "metadata": {},
   "source": [
    "### Extend reference path"
   ]
  },
  {
   "cell_type": "markdown",
   "id": "133d56bc-b55b-42aa-9823-7d82ca91c090",
   "metadata": {},
   "source": [
    "To avoid errors for motion planning near the start and ends of the reference path, we can extend the original path by a fixed length front/back. It is extended by adding the centerpoints of predecessor/successor lanelets (if available) or by linear extrapolation."
   ]
  },
  {
   "cell_type": "code",
   "execution_count": 4,
   "id": "d830a6d6-1f45-41eb-bf13-ea72872c4045",
   "metadata": {},
   "outputs": [],
   "source": [
    "from commonroad_clcs.helper.smoothing import smooth_polyline_rdp\n",
    "\n",
    "# first remove noisy points via RDP polyline simplification and resample the path\n",
    "ref_path = smooth_polyline_rdp(\n",
    "    polyline = ref_path,\n",
    "    resample_step = 1.0\n",
    ")"
   ]
  },
  {
   "cell_type": "code",
   "execution_count": 5,
   "id": "c4670fc8-95c5-432f-bf6d-68e346f5de5b",
   "metadata": {},
   "outputs": [],
   "source": [
    "from commonroad_clcs.util import extend_reference_path\n",
    "\n",
    "# extend reference path\n",
    "ref_path = extend_reference_path(\n",
    "        reference_path=ref_path,\n",
    "        resample_step=1.0,\n",
    "        extend_front_length=10.0,\n",
    "        extend_back_length=5.0,\n",
    "        lanelet_network=scenario.lanelet_network\n",
    "    )"
   ]
  },
  {
   "cell_type": "code",
   "execution_count": 6,
   "id": "07f66bf2-cb3c-4abb-979b-26a9bc7c0ec1",
   "metadata": {},
   "outputs": [
    {
     "name": "stdout",
     "output_type": "stream",
     "text": [
      "Length before extension: 347.4824591460011\n",
      "Length after extension: 362.47251851872124\n"
     ]
    }
   ],
   "source": [
    "from commonroad_clcs.util import compute_polyline_length\n",
    "\n",
    "# compare lengths before/after\n",
    "print(f\"Length before extension: {compute_polyline_length(ref_path_original)}\")\n",
    "print(f\"Length after extension: {compute_polyline_length(ref_path)}\")"
   ]
  },
  {
   "cell_type": "markdown",
   "id": "c6924e67-fb2c-4ea0-b00d-b6a71335f59f",
   "metadata": {},
   "source": [
    "### Pre-processing options"
   ]
  },
  {
   "cell_type": "markdown",
   "id": "1d8e4f79-f47b-40d3-8acf-62d6567e2594",
   "metadata": {},
   "source": [
    "Below we show a few exemplary reference path processing methods which can be used depending on the use-case. See `commonroad_clcs/ref_path_processing` for more available methods.\n",
    "\n",
    "To simplify the usage, the pre-processing options can be used via a unified interface `IReferencePathProcessor`. The pre-processing options can be configured via the `CLCSParams()` objects"
   ]
  },
  {
   "cell_type": "markdown",
   "id": "78ac1b52-afdb-4473-a8d1-197440326f40",
   "metadata": {},
   "source": [
    "#### Resampling options"
   ]
  },
  {
   "cell_type": "markdown",
   "id": "938168c8-0fab-4ffc-9434-5713858fb550",
   "metadata": {},
   "source": [
    "The reference path can either be sampled with a fixed sampling distance or an adaptive sampling distance. In the latter case, the density of points is increased in parts where the curvature is higher and lower curvature parts are sampled coarsely to reduce number of points without losing accuracy."
   ]
  },
  {
   "cell_type": "code",
   "execution_count": 7,
   "id": "58afac0b-d643-426c-bb3b-28893c7ec7cd",
   "metadata": {},
   "outputs": [],
   "source": [
    "# resampling settings\n",
    "params.resampling.option = ResamplingOption.ADAPTIVE\n",
    "params.resampling.min_step = 0.4\n",
    "params.resampling.max_step = 2.0"
   ]
  },
  {
   "cell_type": "markdown",
   "id": "dd780c2e-bebd-4cee-969a-05404081a8b0",
   "metadata": {},
   "source": [
    "#### Smooth via Spline Smoothing"
   ]
  },
  {
   "cell_type": "markdown",
   "id": "fe168436-4368-4efe-929c-26a1dfac24ec",
   "metadata": {},
   "source": [
    "We first show an example how to smooth the reference path by approximating it using simple smoothing B-splines which smooths jerky curvature (rate) profiles."
   ]
  },
  {
   "cell_type": "code",
   "execution_count": 8,
   "id": "e9ef6940-3f29-4b88-b75c-6d92f2f21c95",
   "metadata": {},
   "outputs": [],
   "source": [
    "from commonroad_clcs.ref_path_processing.factory import ProcessorFactory\n",
    "\n",
    "# spline smoothing settings\n",
    "params.processing_option = ProcessingOption.SPLINE_SMOOTHING\n",
    "params.spline.degree_spline = 3\n",
    "params.spline.smoothing_factor = 2.0\n",
    "\n",
    "# process reference path\n",
    "ref_path_processor = ProcessorFactory.create_processor(params)\n",
    "ref_path_spline = ref_path_processor(ref_path)"
   ]
  },
  {
   "cell_type": "markdown",
   "id": "b5107e83-7531-4bec-ba9d-b4fbf7df74b9",
   "metadata": {},
   "source": [
    "#### Smooth via Curve Subdivision"
   ]
  },
  {
   "cell_type": "markdown",
   "id": "c62c08f8-f177-46b9-aecc-c39b69a79de2",
   "metadata": {},
   "source": [
    "Here, we show how to pre-process the reference path using an iterative curve subdivision and also limit the curvature to a desired value"
   ]
  },
  {
   "cell_type": "code",
   "execution_count": 9,
   "id": "fc726537-bb2c-430a-9705-357c12dbb065",
   "metadata": {},
   "outputs": [],
   "source": [
    "# curve subdivision settings\n",
    "params.processing_option = ProcessingOption.CURVE_SUBDIVISION\n",
    "params.subdivision.degree = 2\n",
    "params.subdivision.num_refinements = 3\n",
    "params.subdivision.coarse_resampling_step = 2.0\n",
    "params.subdivision.max_curvature = 0.12\n",
    "\n",
    "# process reference path\n",
    "ref_path_processor = ProcessorFactory.create_processor(params)\n",
    "ref_path_cs = ref_path_processor(ref_path)"
   ]
  },
  {
   "cell_type": "markdown",
   "id": "440544b5-b0df-4596-a972-06c5480cd09d",
   "metadata": {},
   "source": [
    "### Evaluation"
   ]
  },
  {
   "cell_type": "markdown",
   "id": "e5a7d4f0-b269-4f5b-84fd-ffa9aab2867d",
   "metadata": {},
   "source": [
    "We inspect and compare the smoothness (curvature and curvature rate) of the paths compared to the original reference path"
   ]
  },
  {
   "cell_type": "code",
   "execution_count": 10,
   "id": "9e77ad23-d449-4164-a10e-f5590ebd3497",
   "metadata": {},
   "outputs": [
    {
     "data": {
      "image/png": "[encoded data removed]",
      "text/plain": [
       "<Figure size 640x480 with 2 Axes>"
      ]
     },
     "metadata": {},
     "output_type": "display_data"
    }
   ],
   "source": [
    "from matplotlib import pyplot as plt\n",
    "from commonroad_clcs.helper.evaluation import plot_ref_path_curvature\n",
    "\n",
    "# create fig\n",
    "fig, axs = plt.subplots(2)\n",
    "# plot curvatures\n",
    "plot_ref_path_curvature(ref_path_original, axs=axs, label=\"original\", linestyle=\"dashed\")\n",
    "plot_ref_path_curvature(ref_path_spline, axs=axs, label=\"spline\")\n",
    "plot_ref_path_curvature(ref_path_cs, axs=axs, label=\"subdivision\")"
   ]
  }
 ],
 "metadata": {
  "kernelspec": {
   "display_name": "Python 3 (ipykernel)",
   "language": "python",
   "name": "python3"
  },
  "language_info": {
   "codemirror_mode": {
    "name": "ipython",
    "version": 3
   },
   "file_extension": ".py",
   "mimetype": "text/x-python",
   "name": "python",
   "nbconvert_exporter": "python",
   "pygments_lexer": "ipython3",
   "version": "3.11.11"
  }
 },
 "nbformat": 4,
 "nbformat_minor": 5
}

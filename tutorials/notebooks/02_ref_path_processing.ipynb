{
 "cells": [
  {
   "cell_type": "markdown",
   "id": "c92cba71-467b-4407-b1f2-ddb6c85551dc",
   "metadata": {},
   "source": [
    "# Reference Path Processing"
   ]
  },
  {
   "cell_type": "markdown",
   "id": "76c19dfe-556e-4874-8796-a52fc6f39b32",
   "metadata": {},
   "source": [
    "Curvilinear coordinate frames are heavily influenced by the quality of the reference path (in our case a 2d polyline). Potential issues of the reference path are for example discontinuities, insufficient smoothness or noisy profiles of the curvature (rate), too high curvature values, oversampling etc... This can lead to a variety of problems when using the curvilinear representation for downstream tasks (e.g., motion planning), such as discontinuous trajectories, infeasibilities, arbitrary projections etc...\n",
    "\n",
    "Therefore, we provide different methods which can be used to pre-process the reference path w.r.t. the aforementioned issues. Here, we show some examples."
   ]
  },
  {
   "cell_type": "markdown",
   "id": "3a0c567c-d420-48b0-ae24-a7d063351bc8",
   "metadata": {},
   "source": [
    "### Load scenario and get initial reference path "
   ]
  },
  {
   "cell_type": "markdown",
   "id": "a0f958cd-d20f-44ea-b8f8-693d7b1671c4",
   "metadata": {},
   "source": [
    "### Extend reference path"
   ]
  },
  {
   "cell_type": "markdown",
   "id": "78ac1b52-afdb-4473-a8d1-197440326f40",
   "metadata": {},
   "source": [
    "### Resampling options"
   ]
  },
  {
   "cell_type": "markdown",
   "id": "dd780c2e-bebd-4cee-969a-05404081a8b0",
   "metadata": {},
   "source": [
    "### Smooth with Spline Smoothing"
   ]
  },
  {
   "cell_type": "markdown",
   "id": "b5107e83-7531-4bec-ba9d-b4fbf7df74b9",
   "metadata": {},
   "source": [
    "### Smooth via Curve Subdivision"
   ]
  },
  {
   "cell_type": "markdown",
   "id": "440544b5-b0df-4596-a972-06c5480cd09d",
   "metadata": {},
   "source": [
    "### Evaluation"
   ]
  }
 ],
 "metadata": {
  "kernelspec": {
   "display_name": "Python 3 (ipykernel)",
   "language": "python",
   "name": "python3"
  },
  "language_info": {
   "codemirror_mode": {
    "name": "ipython",
    "version": 3
   },
   "file_extension": ".py",
   "mimetype": "text/x-python",
   "name": "python",
   "nbconvert_exporter": "python",
   "pygments_lexer": "ipython3",
   "version": "3.11.11"
  }
 },
 "nbformat": 4,
 "nbformat_minor": 5
}

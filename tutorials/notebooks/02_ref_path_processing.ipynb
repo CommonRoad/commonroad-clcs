{
 "cells": [
  {
   "cell_type": "markdown",
   "id": "c92cba71-467b-4407-b1f2-ddb6c85551dc",
   "metadata": {},
   "source": [
    "# Reference Path Processing"
   ]
  },
  {
   "cell_type": "markdown",
   "id": "76c19dfe-556e-4874-8796-a52fc6f39b32",
   "metadata": {},
   "source": [
    "Curvilinear coordinate frames are heavily influenced by the quality of the reference path (in our case a 2d polyline). Potential issues of the reference path are for example discontinuities, insufficient smoothness or noisy profiles of the curvature (rate), too high curvature values, oversampling etc... This can lead to a variety of problems when using the curvilinear representation for downstream tasks (e.g., motion planning), such as discontinuous trajectories, infeasibilities, arbitrary projections etc...\n",
    "\n",
    "Therefore, we provide different methods which can be used to pre-process the reference path w.r.t. the aforementioned issues. Here, we show some examples."
   ]
  }
 ],
 "metadata": {
  "kernelspec": {
   "display_name": "Python 3 (ipykernel)",
   "language": "python",
   "name": "python3"
  },
  "language_info": {
   "codemirror_mode": {
    "name": "ipython",
    "version": 3
   },
   "file_extension": ".py",
   "mimetype": "text/x-python",
   "name": "python",
   "nbconvert_exporter": "python",
   "pygments_lexer": "ipython3",
   "version": "3.11.11"
  }
 },
 "nbformat": 4,
 "nbformat_minor": 5
}

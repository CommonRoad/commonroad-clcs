{
 "cells": [
  {
   "cell_type": "markdown",
   "id": "47c6dda6-ba8a-49d3-aae4-bc842ec244eb",
   "metadata": {},
   "source": [
    "# CommonRoad CLCS - Additional Features"
   ]
  },
  {
   "cell_type": "markdown",
   "id": "19588dab-c12d-4c56-bae8-9ecfe3bb4fc4",
   "metadata": {},
   "source": [
    "In this tutorial we show some additional features of our packages, which can be useful for developing and debugging when using curvilinear coordinate systems for different applications (e.g., for motion planning, predicition etc...) "
   ]
  }
 ],
 "metadata": {
  "kernelspec": {
   "display_name": "Python 3 (ipykernel)",
   "language": "python",
   "name": "python3"
  },
  "language_info": {
   "codemirror_mode": {
    "name": "ipython",
    "version": 3
   },
   "file_extension": ".py",
   "mimetype": "text/x-python",
   "name": "python",
   "nbconvert_exporter": "python",
   "pygments_lexer": "ipython3",
   "version": "3.11.11"
  }
 },
 "nbformat": 4,
 "nbformat_minor": 5
}
